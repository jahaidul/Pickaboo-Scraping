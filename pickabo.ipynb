{
 "cells": [
  {
   "cell_type": "code",
   "execution_count": 31,
   "id": "41747a7c-4659-45b9-93af-60cae0d95e92",
   "metadata": {},
   "outputs": [],
   "source": [
    "# import the libraries\n",
    "from selenium import webdriver\n",
    "from webdriver_manager.chrome import ChromeDriverManager\n",
    "import pandas as pd\n",
    "import time"
   ]
  },
  {
   "cell_type": "code",
   "execution_count": 33,
   "id": "205167f5-a3f0-47e1-b372-f19954b042e5",
   "metadata": {},
   "outputs": [
    {
     "name": "stderr",
     "output_type": "stream",
     "text": [
      "/tmp/ipykernel_76945/2888618967.py:2: DeprecationWarning: executable_path has been deprecated, please pass in a Service object\n",
      "  driver = webdriver.Chrome(ChromeDriverManager().install())\n"
     ]
    },
    {
     "data": {
      "text/plain": [
       "<selenium.webdriver.chrome.webdriver.WebDriver (session=\"dd6131537da94cff5b8d1a0aa870ca6a\")>"
      ]
     },
     "execution_count": 33,
     "metadata": {},
     "output_type": "execute_result"
    }
   ],
   "source": [
    "# define driver\n",
    "driver = webdriver.Chrome(ChromeDriverManager().install())\n",
    "driver"
   ]
  },
  {
   "cell_type": "code",
   "execution_count": 19,
   "id": "2d9b3ad3-0801-4e75-8f7f-8a82c3df80c1",
   "metadata": {},
   "outputs": [],
   "source": [
    "url = 'https://www.pickaboo.com/product/television/'\n",
    "driver.get(url)\n",
    "#driver.find_element('xpath','//button[@aria-label=\"Go to next page\"]').click()"
   ]
  },
  {
   "cell_type": "code",
   "execution_count": null,
   "id": "fc1d33d6-40e9-4291-a9c3-fd40adaaa111",
   "metadata": {},
   "outputs": [],
   "source": [
    "data = []\n",
    "for page in range(8):\n",
    "    url = 'https://www.pickaboo.com/product/television/'\n",
    "    driver.get(url)\n",
    "    for product in range(1,21):\n",
    "        title = driver.find_element('xpath',f'(//p[@class=\"product-title\"])[{product}]').text\n",
    "        price = driver.find_element('xpath',f'(//p[@class=\"product-price\"]/span)[{product}]').text\n",
    "        url = driver.find_element('xpath',f'(//a[@style=\"width:100%\"])[{product}]').get_attribute('href')\n",
    "        try:\n",
    "            old_price = driver.find_element('xpath',f'(//p[@class=\"product-price\"])[{product}]/s').text\n",
    "        except:\n",
    "            old_price =\"None\"\n",
    "        try:\n",
    "            discount = driver.find_element('xpath',f'(//div[@class=\"product-one__single__inner\"])[{product}]/div[@class=\"product-offer\"]').text\n",
    "        except:\n",
    "            discount = \"Not available\"\n",
    "        d = {\n",
    "            'title' : title,\n",
    "            'price': price,\n",
    "            'old_price': old_price,\n",
    "            'discount':discount,\n",
    "            'url' :  url\n",
    "        }\n",
    "        data.append(d)\n",
    "    driver.find_element('xpath','//button[@aria-label=\"Go to next page\"]').click()\n",
    "    time.sleep(3)\n",
    "    "
   ]
  },
  {
   "cell_type": "code",
   "execution_count": null,
   "id": "921a1743-727e-4b88-8519-5dfdd02826f9",
   "metadata": {},
   "outputs": [],
   "source": [
    "# assignment 01\n",
    "#scrape data from pickabo website in diffrent categories using API"
   ]
  },
  {
   "cell_type": "code",
   "execution_count": null,
   "id": "569e30a2-b367-49ac-984b-f5451b84ca02",
   "metadata": {},
   "outputs": [],
   "source": []
  }
 ],
 "metadata": {
  "kernelspec": {
   "display_name": "Python 3 (ipykernel)",
   "language": "python",
   "name": "python3"
  },
  "language_info": {
   "codemirror_mode": {
    "name": "ipython",
    "version": 3
   },
   "file_extension": ".py",
   "mimetype": "text/x-python",
   "name": "python",
   "nbconvert_exporter": "python",
   "pygments_lexer": "ipython3",
   "version": "3.10.6"
  }
 },
 "nbformat": 4,
 "nbformat_minor": 5
}
